{
 "cells": [
  {
   "cell_type": "code",
   "execution_count": 1,
   "metadata": {},
   "outputs": [],
   "source": [
    "import os\n",
    "import json\n",
    "import jsonschema\n",
    "import requests\n",
    "\n",
    "script_path = ''\n",
    "DATAPATH = os.path.join(script_path,'sample data/')\n",
    "\n",
    "bioschemas_raw = requests.get('https://raw.githubusercontent.com/gtsueng/DDE_bioschemas/main/bioschemas.json')\n",
    "bioschemas = bioschemas_raw.json()\n",
    "\n",
    "#### Function to fetch the validations from a DDE-generated schema\n",
    "def get_validation_from_schema(ddeschema):\n",
    "    validation_dict = {}\n",
    "    for eachentry in ddeschema[\"@graph\"]:\n",
    "        try:\n",
    "            validation = eachentry[\"$validation\"]\n",
    "            validation_dict[eachentry[\"@id\"]] = validation\n",
    "        except:\n",
    "            continue\n",
    "    return(validation_dict)\n"
   ]
  },
  {
   "cell_type": "code",
   "execution_count": 4,
   "metadata": {},
   "outputs": [
    {
     "name": "stdout",
     "output_type": "stream",
     "text": [
      "     source validation  counts\n",
      "0   disprot       pass    1971\n",
      "1     edgar       pass    3510\n",
      "2  massbank       pass   10000\n",
      "Wall time: 1min 16s\n"
     ]
    }
   ],
   "source": [
    "%%time\n",
    "#### script to check validation\n",
    "\n",
    "import os\n",
    "import json\n",
    "import jsonschema\n",
    "import requests\n",
    "import pandas as pd\n",
    "\n",
    "validation_dict = get_validation_from_schema(bioschemas)\n",
    "\n",
    "type_dict = {'massbank':'bioschemas:MolecularEntity',\n",
    "             'disprot':'bioschemas:Protein',\n",
    "             'edgar':'bioschemas:Gene'}\n",
    "\n",
    "DATAPATH = 'sample data/'\n",
    "\n",
    "allresults = []\n",
    "for eachtype in type_dict.keys():\n",
    "    with open(DATAPATH+eachtype+'.json','rb') as inputfile:\n",
    "        esjson = json.load(inputfile)\n",
    "    esdocs = esjson['hits']['hits']\n",
    "    for eachhit in esdocs:\n",
    "        sample = eachhit['_source']\n",
    "        try: \n",
    "            jsonschema.validate(sample,validation_dict[type_dict[eachtype]])\n",
    "            allresults.append({'source':eachtype,'_id':sample['identifier'],'validation':'pass'})\n",
    "        except:\n",
    "            allresults.append({'source':eachtype,'_id':sample['identifier'],'validation':'fail'})\n",
    "\n",
    "validation_results = pd.DataFrame(allresults)\n",
    "validation_summary = validation_results.groupby(['source','validation']).size().reset_index(name='counts')\n",
    "print(validation_summary)"
   ]
  },
  {
   "cell_type": "code",
   "execution_count": null,
   "metadata": {},
   "outputs": [],
   "source": []
  },
  {
   "cell_type": "code",
   "execution_count": null,
   "metadata": {},
   "outputs": [],
   "source": []
  },
  {
   "cell_type": "code",
   "execution_count": null,
   "metadata": {},
   "outputs": [],
   "source": []
  },
  {
   "cell_type": "code",
   "execution_count": null,
   "metadata": {},
   "outputs": [],
   "source": [
    "#### script to run remotely if files could not be pulled locally\n",
    "## They were pulled just fine via curl, so ignore this\n",
    "import os\n",
    "import json\n",
    "import jsonschema\n",
    "import requests\n",
    "import pandas as pd\n",
    "\n",
    "validation_dict = get_validation_from_schema(bioschemas)\n",
    "\n",
    "type_dict = {'crawler_edgar':'bioschemas:Gene',\n",
    "             'crawler_massbank':'bioschemas:MolecularEntity',\n",
    "             'crawler_disprot':'bioschemas:Protein'}\n",
    "\n",
    "allresults = []\n",
    "for eachtype in type_dict.keys():\n",
    "    response = requests.get('http://su07.scripps.edu:9199/'+each_type+'/_search?&size=10000&q=*:*')\n",
    "    esjson = response.json()\n",
    "    esdocs = esjson['hits']['hits']\n",
    "    for eachhit in esdocs:\n",
    "        sample = eachhit['_source']\n",
    "        try: \n",
    "            jsonschema.validate(sample,validation_dict[type_dict[eachtype]])\n",
    "            allresults.append({'source_type':eachtype,'_id':sample['identifier'],'validation':'pass'})\n",
    "        except:\n",
    "            allresults.append({'source_type':eachtype,'_id':sample['identifier'],'validation':'fail'})\n",
    "\n",
    "validation_results = pd.DataFrame(allresults)\n",
    "validation_summary = validation_results.groupby(['source_type','validation']).size().reset_index(name='counts')\n",
    "validation_summary.to_csv('validation_summary.txt',sep='\\t',header=True)"
   ]
  },
  {
   "cell_type": "code",
   "execution_count": null,
   "metadata": {},
   "outputs": [],
   "source": [
    "#### Snippets for figuring out data structure"
   ]
  },
  {
   "cell_type": "code",
   "execution_count": null,
   "metadata": {},
   "outputs": [],
   "source": [
    "with open(DATAPATH+'massbank.json','rb') as inputfile:\n",
    "    esjson = json.load(inputfile)\n"
   ]
  },
  {
   "cell_type": "code",
   "execution_count": null,
   "metadata": {},
   "outputs": [],
   "source": [
    "with open('sample data/edgar.json','rb') as inputfile:\n",
    "    edgar = json.load(inputfile)\n",
    "print(edgar['hits']['hits'][0]['_source'])"
   ]
  },
  {
   "cell_type": "code",
   "execution_count": null,
   "metadata": {},
   "outputs": [],
   "source": [
    "print(validation_dict['bioschemas:Gene'])\n",
    "print(validation_dict['bioschemas:Protein'])\n",
    "print(validation_dict['bioschemas:MolecularEntity'])"
   ]
  },
  {
   "cell_type": "code",
   "execution_count": null,
   "metadata": {},
   "outputs": [],
   "source": [
    "#### Note, the validate function must be run against the validation section in the schema\n",
    "#### To make things easier, we pull out the validation section in the schema\n",
    "validation_dict = get_validation_from_schema(bioschemas)\n",
    "print(validation_dict.keys())\n",
    "garbagetest = {\"name\": {\"LOL\":\"This is invalid\"}}\n",
    "#jsonschema.validate(garbagetest,bioschemas[\"@graph\"][18][\"$validation\"])\n",
    "jsonschema.validate(massbank_sample[0],validation_dict[\"bioschemas:MolecularEntity\"])"
   ]
  },
  {
   "cell_type": "code",
   "execution_count": null,
   "metadata": {},
   "outputs": [],
   "source": [
    "\n",
    "with open(os.path.join(DATAPATH,'massbank_sample.json'),'r') as massfile:\n",
    "    massbank_sample = json.load(massfile)\n",
    "\n",
    "massbankresults = []\n",
    "for sample in massbank_sample:\n",
    "    try: \n",
    "        jsonschema.validate(sample,validation_dict[\"bioschemas:MolecularEntity\"])\n",
    "        massbankresults.append({'_id':sample['identifier'],'validation':'pass'})\n",
    "    except:\n",
    "        massbankresults.append({'_id':sample['identifier'],'validation':'fail'})        "
   ]
  }
 ],
 "metadata": {
  "kernelspec": {
   "display_name": "Python 3",
   "language": "python",
   "name": "python3"
  },
  "language_info": {
   "codemirror_mode": {
    "name": "ipython",
    "version": 3
   },
   "file_extension": ".py",
   "mimetype": "text/x-python",
   "name": "python",
   "nbconvert_exporter": "python",
   "pygments_lexer": "ipython3",
   "version": "3.8.5"
  }
 },
 "nbformat": 4,
 "nbformat_minor": 4
}
