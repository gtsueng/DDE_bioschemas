{
 "cells": [
  {
   "cell_type": "code",
   "execution_count": 1,
   "metadata": {},
   "outputs": [],
   "source": [
    "import os\n",
    "import json\n",
    "import jsonschema\n",
    "import requests"
   ]
  },
  {
   "cell_type": "code",
   "execution_count": 4,
   "metadata": {},
   "outputs": [],
   "source": [
    "script_path = ''\n",
    "DATAPATH = os.path.join(script_path,'sample data/')\n",
    "\n",
    "with open(os.path.join(DATAPATH,'massbank_sample.json'),'r') as massfile:\n",
    "    massbank_sample = json.load(massfile)\n",
    "\n",
    "bioschemas_raw = requests.get('https://raw.githubusercontent.com/gtsueng/DDE_bioschemas/main/bioschemas.json')\n",
    "bioschemas = bioschemas_raw.json()\n",
    "\n",
    "#### Function to fetch the validations from a DDE-generated schema\n",
    "def get_validation_from_schema(ddeschema):\n",
    "    validation_dict = {}\n",
    "    for eachentry in ddeschema[\"@graph\"]:\n",
    "        try:\n",
    "            validation = eachentry[\"$validation\"]\n",
    "            validation_dict[eachentry[\"@id\"]] = validation\n",
    "        except:\n",
    "            continue\n",
    "    return(validation_dict)\n",
    "\n"
   ]
  },
  {
   "cell_type": "code",
   "execution_count": 5,
   "metadata": {},
   "outputs": [
    {
     "name": "stdout",
     "output_type": "stream",
     "text": [
      "dict_keys(['bioschemas:Taxon', 'bioschemas:BioChemEntity', 'bioschemas:MolecularEntity', 'bioschemas:Gene', 'bioschemas:Dna', 'bioschemas:Rna', 'bioschemas:Protein'])\n"
     ]
    }
   ],
   "source": [
    "#### Note, the validate function must be run against the validation section in the schema\n",
    "#### To make things easier, we pull out the validation section in the schema\n",
    "validation_dict = get_validation_from_schema(bioschemas)\n",
    "print(validation_dict.keys())\n",
    "garbagetest = {\"name\": {\"LOL\":\"This is invalid\"}}\n",
    "#jsonschema.validate(garbagetest,bioschemas[\"@graph\"][18][\"$validation\"])\n",
    "jsonschema.validate(massbank_sample[0],validation_dict[\"bioschemas:MolecularEntity\"])"
   ]
  },
  {
   "cell_type": "code",
   "execution_count": null,
   "metadata": {},
   "outputs": [],
   "source": []
  }
 ],
 "metadata": {
  "kernelspec": {
   "display_name": "Python 3",
   "language": "python",
   "name": "python3"
  },
  "language_info": {
   "codemirror_mode": {
    "name": "ipython",
    "version": 3
   },
   "file_extension": ".py",
   "mimetype": "text/x-python",
   "name": "python",
   "nbconvert_exporter": "python",
   "pygments_lexer": "ipython3",
   "version": "3.8.5"
  }
 },
 "nbformat": 4,
 "nbformat_minor": 4
}
