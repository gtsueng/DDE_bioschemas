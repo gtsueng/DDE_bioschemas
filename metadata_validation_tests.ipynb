{
 "cells": [
  {
   "cell_type": "code",
   "execution_count": 6,
   "metadata": {},
   "outputs": [],
   "source": [
    "import os\n",
    "import json\n",
    "import jsonschema\n",
    "import requests\n",
    "\n",
    "script_path = ''\n",
    "DATAPATH = os.path.join(script_path,'sample data/')\n",
    "\n",
    "bioschemas_raw = requests.get('https://raw.githubusercontent.com/gtsueng/DDE_bioschemas/main/bioschemas.json')\n",
    "bioschemas = bioschemas_raw.json()\n",
    "\n",
    "#### Function to fetch the validations from a DDE-generated schema\n",
    "def get_validation_from_schema(ddeschema):\n",
    "    validation_dict = {}\n",
    "    for eachentry in ddeschema[\"@graph\"]:\n",
    "        try:\n",
    "            validation = eachentry[\"$validation\"]\n",
    "            validation_dict[eachentry[\"@id\"]] = validation\n",
    "        except:\n",
    "            continue\n",
    "    return(validation_dict)\n"
   ]
  },
  {
   "cell_type": "code",
   "execution_count": 3,
   "metadata": {},
   "outputs": [
    {
     "name": "stdout",
     "output_type": "stream",
     "text": [
      "Wall time: 1min 21s\n"
     ]
    }
   ],
   "source": [
    "%%time\n",
    "#### script to check validation\n",
    "\n",
    "import os\n",
    "import json\n",
    "import jsonschema\n",
    "import requests\n",
    "\n",
    "validation_dict = get_validation_from_schema(bioschemas)\n",
    "\n",
    "type_dict = {'massbank':'bioschemas:MolecularEntity',\n",
    "             'disprot':'bioschemas:Protein',\n",
    "             'edgar':'bioschemas:Gene'}\n",
    "\n",
    "DATAPATH = 'sample data/'\n",
    "\n",
    "allresults = []\n",
    "for eachtype in type_dict.keys():\n",
    "    with open(DATAPATH+eachtype+'.json','rb') as inputfile:\n",
    "        esjson = json.load(inputfile)\n",
    "    esdocs = esjson['hits']['hits']\n",
    "    for eachhit in esdocs:\n",
    "        sample = eachhit['_source']\n",
    "        try: \n",
    "            jsonschema.validate(sample,validation_dict[type_dict[eachtype]])\n",
    "            allresults.append({'source_type':eachtype,'_id':sample['identifier'],'validation':'pass'})\n",
    "        except:\n",
    "            allresults.append({'source_type':eachtype,'_id':sample['identifier'],'validation':'fail'})"
   ]
  },
  {
   "cell_type": "code",
   "execution_count": 4,
   "metadata": {},
   "outputs": [
    {
     "name": "stdout",
     "output_type": "stream",
     "text": [
      "  validation  counts\n",
      "0       fail    3510\n",
      "  validation  counts\n",
      "0       pass   10000\n",
      "  validation  counts\n",
      "0       pass    1971\n",
      "Wall time: 348 ms\n"
     ]
    }
   ],
   "source": [
    "%%time\n",
    "import pandas as pd\n",
    "valtest = pd.DataFrame(allresults)\n",
    "edgar = valtest.loc[valtest['source_type']=='edgar']\n",
    "print(edgar.groupby('validation').size().reset_index(name='counts'))\n",
    "massbank = valtest.loc[valtest['source_type']=='massbank']\n",
    "print(massbank.groupby('validation').size().reset_index(name='counts'))\n",
    "disprot = valtest.loc[valtest['source_type']=='disprot']\n",
    "print(disprot.groupby('validation').size().reset_index(name='counts'))"
   ]
  },
  {
   "cell_type": "code",
   "execution_count": null,
   "metadata": {},
   "outputs": [],
   "source": []
  },
  {
   "cell_type": "code",
   "execution_count": 7,
   "metadata": {},
   "outputs": [
    {
     "ename": "ValidationError",
     "evalue": "'http://edgar.biocomp.unibo.it/cgi-bin/gene_disease_db/gene.py?gene=ABCB4' is valid under each of {'type': 'string', 'format': 'uri'}, {'type': 'string'}\n\nFailed validating 'oneOf' in schema['properties']['identifier']:\n    {'description': 'The identifier property represents any kind of '\n                    'identifier for any kind of <a class=\"localLink\" '\n                    'href=\"http://schema.org/Thing\">Thing</a>, such as '\n                    'ISBNs, GTIN codes, UUIDs etc. Schema.org provides '\n                    'dedicated properties for representing many of these, '\n                    'either as textual strings or as URL (URI) links. See '\n                    '<a '\n                    'href=\"/docs/datamodel.html#identifierBg\">background '\n                    'notes</a> for more details.',\n     'oneOf': [{'$ref': '#/definitions/propertyValue'},\n               {'type': 'string'},\n               {'format': 'uri', 'type': 'string'}]}\n\nOn instance['identifier']:\n    'http://edgar.biocomp.unibo.it/cgi-bin/gene_disease_db/gene.py?gene=ABCB4'",
     "output_type": "error",
     "traceback": [
      "\u001b[1;31m---------------------------------------------------------------------------\u001b[0m",
      "\u001b[1;31mValidationError\u001b[0m                           Traceback (most recent call last)",
      "\u001b[1;32m<ipython-input-7-5460ec4bc96c>\u001b[0m in \u001b[0;36m<module>\u001b[1;34m\u001b[0m\n\u001b[0;32m     16\u001b[0m \u001b[1;32mfor\u001b[0m \u001b[0meachhit\u001b[0m \u001b[1;32min\u001b[0m \u001b[0mesdocs\u001b[0m\u001b[1;33m:\u001b[0m\u001b[1;33m\u001b[0m\u001b[1;33m\u001b[0m\u001b[0m\n\u001b[0;32m     17\u001b[0m     \u001b[0msample\u001b[0m \u001b[1;33m=\u001b[0m \u001b[0meachhit\u001b[0m\u001b[1;33m[\u001b[0m\u001b[1;34m'_source'\u001b[0m\u001b[1;33m]\u001b[0m\u001b[1;33m\u001b[0m\u001b[1;33m\u001b[0m\u001b[0m\n\u001b[1;32m---> 18\u001b[1;33m     \u001b[0mjsonschema\u001b[0m\u001b[1;33m.\u001b[0m\u001b[0mvalidate\u001b[0m\u001b[1;33m(\u001b[0m\u001b[0msample\u001b[0m\u001b[1;33m,\u001b[0m\u001b[0mvalidation_dict\u001b[0m\u001b[1;33m[\u001b[0m\u001b[0mtype_dict\u001b[0m\u001b[1;33m[\u001b[0m\u001b[0meachtype\u001b[0m\u001b[1;33m]\u001b[0m\u001b[1;33m]\u001b[0m\u001b[1;33m)\u001b[0m\u001b[1;33m\u001b[0m\u001b[1;33m\u001b[0m\u001b[0m\n\u001b[0m\u001b[0;32m     19\u001b[0m     \u001b[0mvalcheck\u001b[0m\u001b[1;33m.\u001b[0m\u001b[0mappend\u001b[0m\u001b[1;33m(\u001b[0m\u001b[1;33m{\u001b[0m\u001b[1;34m'source_type'\u001b[0m\u001b[1;33m:\u001b[0m\u001b[0meachtype\u001b[0m\u001b[1;33m,\u001b[0m\u001b[1;34m'_id'\u001b[0m\u001b[1;33m:\u001b[0m\u001b[0msample\u001b[0m\u001b[1;33m[\u001b[0m\u001b[1;34m'identifier'\u001b[0m\u001b[1;33m]\u001b[0m\u001b[1;33m,\u001b[0m\u001b[1;34m'validation'\u001b[0m\u001b[1;33m:\u001b[0m\u001b[1;34m'pass'\u001b[0m\u001b[1;33m}\u001b[0m\u001b[1;33m)\u001b[0m\u001b[1;33m\u001b[0m\u001b[1;33m\u001b[0m\u001b[0m\n",
      "\u001b[1;32m~\\Anaconda3\\envs\\outbreak\\lib\\site-packages\\jsonschema\\validators.py\u001b[0m in \u001b[0;36mvalidate\u001b[1;34m(instance, schema, cls, *args, **kwargs)\u001b[0m\n\u001b[0;32m    932\u001b[0m     \u001b[0merror\u001b[0m \u001b[1;33m=\u001b[0m \u001b[0mexceptions\u001b[0m\u001b[1;33m.\u001b[0m\u001b[0mbest_match\u001b[0m\u001b[1;33m(\u001b[0m\u001b[0mvalidator\u001b[0m\u001b[1;33m.\u001b[0m\u001b[0miter_errors\u001b[0m\u001b[1;33m(\u001b[0m\u001b[0minstance\u001b[0m\u001b[1;33m)\u001b[0m\u001b[1;33m)\u001b[0m\u001b[1;33m\u001b[0m\u001b[1;33m\u001b[0m\u001b[0m\n\u001b[0;32m    933\u001b[0m     \u001b[1;32mif\u001b[0m \u001b[0merror\u001b[0m \u001b[1;32mis\u001b[0m \u001b[1;32mnot\u001b[0m \u001b[1;32mNone\u001b[0m\u001b[1;33m:\u001b[0m\u001b[1;33m\u001b[0m\u001b[1;33m\u001b[0m\u001b[0m\n\u001b[1;32m--> 934\u001b[1;33m         \u001b[1;32mraise\u001b[0m \u001b[0merror\u001b[0m\u001b[1;33m\u001b[0m\u001b[1;33m\u001b[0m\u001b[0m\n\u001b[0m\u001b[0;32m    935\u001b[0m \u001b[1;33m\u001b[0m\u001b[0m\n\u001b[0;32m    936\u001b[0m \u001b[1;33m\u001b[0m\u001b[0m\n",
      "\u001b[1;31mValidationError\u001b[0m: 'http://edgar.biocomp.unibo.it/cgi-bin/gene_disease_db/gene.py?gene=ABCB4' is valid under each of {'type': 'string', 'format': 'uri'}, {'type': 'string'}\n\nFailed validating 'oneOf' in schema['properties']['identifier']:\n    {'description': 'The identifier property represents any kind of '\n                    'identifier for any kind of <a class=\"localLink\" '\n                    'href=\"http://schema.org/Thing\">Thing</a>, such as '\n                    'ISBNs, GTIN codes, UUIDs etc. Schema.org provides '\n                    'dedicated properties for representing many of these, '\n                    'either as textual strings or as URL (URI) links. See '\n                    '<a '\n                    'href=\"/docs/datamodel.html#identifierBg\">background '\n                    'notes</a> for more details.',\n     'oneOf': [{'$ref': '#/definitions/propertyValue'},\n               {'type': 'string'},\n               {'format': 'uri', 'type': 'string'}]}\n\nOn instance['identifier']:\n    'http://edgar.biocomp.unibo.it/cgi-bin/gene_disease_db/gene.py?gene=ABCB4'"
     ]
    }
   ],
   "source": [
    "#### Check why disprot is failing\n",
    "\n",
    "validation_dict = get_validation_from_schema(bioschemas)\n",
    "\n",
    "type_dict = {'edgar':'bioschemas:Gene',\n",
    "             'massbank':'bioschemas:MolecularEntity',\n",
    "             'disprot':'bioschemas:Protein'}\n",
    "\n",
    "DATAPATH = 'sample data/'\n",
    "\n",
    "eachtype = 'edgar'\n",
    "valcheck = []\n",
    "with open(DATAPATH+eachtype+'.json','rb') as inputfile:\n",
    "    esjson = json.load(inputfile)\n",
    "esdocs = esjson['hits']['hits']\n",
    "for eachhit in esdocs:\n",
    "    sample = eachhit['_source']\n",
    "    jsonschema.validate(sample,validation_dict[type_dict[eachtype]])\n",
    "    valcheck.append({'source_type':eachtype,'_id':sample['identifier'],'validation':'pass'})\n"
   ]
  },
  {
   "cell_type": "code",
   "execution_count": null,
   "metadata": {},
   "outputs": [],
   "source": []
  },
  {
   "cell_type": "code",
   "execution_count": null,
   "metadata": {},
   "outputs": [],
   "source": [
    "#### script to run remotely if files could not be pulled locally\n",
    "## They were pulled just fine via curl, so ignore this\n",
    "\n",
    "import os\n",
    "import json\n",
    "import jsonschema\n",
    "import requests\n",
    "\n",
    "type_dict = {'crawler_edgar':'bioschemas:Gene',\n",
    "             'crawler_massbank':'bioschemas:MolecularEntity',\n",
    "             'crawler_disprot':'bioschemas:Protein'}\n",
    "\n",
    "for eachtype in type_dict.keys():\n",
    "    response = requests.get('http://su07.scripps.edu:9199/'+each_type+'/_search')"
   ]
  },
  {
   "cell_type": "code",
   "execution_count": null,
   "metadata": {},
   "outputs": [],
   "source": [
    "#### Snippets for figuring out data structure"
   ]
  },
  {
   "cell_type": "code",
   "execution_count": null,
   "metadata": {},
   "outputs": [],
   "source": [
    "with open('sample data/edgar.json','rb') as inputfile:\n",
    "    edgar = json.load(inputfile)\n",
    "print(edgar['hits']['hits'][0]['_source'])"
   ]
  },
  {
   "cell_type": "code",
   "execution_count": null,
   "metadata": {},
   "outputs": [],
   "source": [
    "print(validation_dict['bioschemas:Gene'])\n",
    "print(validation_dict['bioschemas:Protein'])\n",
    "print(validation_dict['bioschemas:MolecularEntity'])"
   ]
  },
  {
   "cell_type": "code",
   "execution_count": null,
   "metadata": {},
   "outputs": [],
   "source": [
    "#### Note, the validate function must be run against the validation section in the schema\n",
    "#### To make things easier, we pull out the validation section in the schema\n",
    "validation_dict = get_validation_from_schema(bioschemas)\n",
    "print(validation_dict.keys())\n",
    "garbagetest = {\"name\": {\"LOL\":\"This is invalid\"}}\n",
    "#jsonschema.validate(garbagetest,bioschemas[\"@graph\"][18][\"$validation\"])\n",
    "jsonschema.validate(massbank_sample[0],validation_dict[\"bioschemas:MolecularEntity\"])"
   ]
  },
  {
   "cell_type": "code",
   "execution_count": null,
   "metadata": {},
   "outputs": [],
   "source": [
    "\n",
    "with open(os.path.join(DATAPATH,'massbank_sample.json'),'r') as massfile:\n",
    "    massbank_sample = json.load(massfile)\n",
    "\n",
    "massbankresults = []\n",
    "for sample in massbank_sample:\n",
    "    try: \n",
    "        jsonschema.validate(sample,validation_dict[\"bioschemas:MolecularEntity\"])\n",
    "        massbankresults.append({'_id':sample['identifier'],'validation':'pass'})\n",
    "    except:\n",
    "        massbankresults.append({'_id':sample['identifier'],'validation':'fail'})        "
   ]
  }
 ],
 "metadata": {
  "kernelspec": {
   "display_name": "Python 3",
   "language": "python",
   "name": "python3"
  },
  "language_info": {
   "codemirror_mode": {
    "name": "ipython",
    "version": 3
   },
   "file_extension": ".py",
   "mimetype": "text/x-python",
   "name": "python",
   "nbconvert_exporter": "python",
   "pygments_lexer": "ipython3",
   "version": "3.8.5"
  }
 },
 "nbformat": 4,
 "nbformat_minor": 4
}
